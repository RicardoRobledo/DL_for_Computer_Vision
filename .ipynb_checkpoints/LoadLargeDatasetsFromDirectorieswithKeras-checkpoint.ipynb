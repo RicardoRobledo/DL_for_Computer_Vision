{
 "cells": [
  {
   "cell_type": "code",
   "execution_count": 7,
   "id": "456a5b1d-88b2-4e5b-b416-3674967a8e3f",
   "metadata": {},
   "outputs": [],
   "source": [
    "from tensorflow.keras.preprocessing.image import ImageDataGenerator\n",
    "\n",
    "datagen = ImageDataGenerator()"
   ]
  },
  {
   "cell_type": "code",
   "execution_count": 17,
   "id": "f29abe6d-f533-4583-aafc-8cc3174eecfc",
   "metadata": {},
   "outputs": [
    {
     "name": "stdout",
     "output_type": "stream",
     "text": [
      "Found 2 images belonging to 2 classes.\n",
      "Found 2 images belonging to 2 classes.\n",
      "Found 2 images belonging to 2 classes.\n",
      "Batch shape(2, 256, 256, 3), min=0.000, max=255.000\n"
     ]
    }
   ],
   "source": [
    "# load and iterate training dataset\n",
    "train_it = datagen.flow_from_directory('data/train/', class_mode='binary', batch_size=64)\n",
    "# load and iterate validation dataset\n",
    "val_it = datagen.flow_from_directory('data/validation/', class_mode='binary', batch_size=64)\n",
    "# load and iterate test dataset\n",
    "test_it = datagen.flow_from_directory('data/test/', class_mode='binary', batch_size=64)\n",
    "\n",
    "batchX, batchy = next(train_it)\n",
    "print('Batch shape%s, min=%.3f, max=%.3f' % (batchX.shape, batchX.min(), batchX.max()))"
   ]
  },
  {
   "cell_type": "code",
   "execution_count": 19,
   "id": "37c1b815-5c54-4ad2-80d1-9a1991b07c5b",
   "metadata": {},
   "outputs": [],
   "source": [
    "#model.fit_generator(train_it, steps_per_epochs=16, validation_data=val_it, validation_steps=8)\n",
    "#loss = model.evaluate_generator(test_it, steps=24)\n",
    "#yhat = model.predict_generator(predict_it, steps=24)"
   ]
  },
  {
   "cell_type": "code",
   "execution_count": null,
   "id": "7da619cf-7960-4a87-823c-80527de9ef95",
   "metadata": {},
   "outputs": [],
   "source": []
  }
 ],
 "metadata": {
  "kernelspec": {
   "display_name": "Python 3 (ipykernel)",
   "language": "python",
   "name": "python3"
  },
  "language_info": {
   "codemirror_mode": {
    "name": "ipython",
    "version": 3
   },
   "file_extension": ".py",
   "mimetype": "text/x-python",
   "name": "python",
   "nbconvert_exporter": "python",
   "pygments_lexer": "ipython3",
   "version": "3.11.10"
  }
 },
 "nbformat": 4,
 "nbformat_minor": 5
}
