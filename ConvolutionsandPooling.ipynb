{
 "cells": [
  {
   "cell_type": "code",
   "execution_count": 1,
   "id": "e25521a0-bd38-4d73-9ff1-c81d75ded894",
   "metadata": {},
   "outputs": [
    {
     "name": "stdout",
     "output_type": "stream",
     "text": [
      "(424, 640)\n",
      "(1, 424, 640)\n",
      "(424, 640, 1)\n"
     ]
    }
   ],
   "source": [
    "# example of expanding dimensions\n",
    "from numpy import expand_dims\n",
    "from numpy import asarray\n",
    "from PIL import Image\n",
    "\n",
    "# load the image\n",
    "img = Image.open('penguin_arade.jpg')\n",
    "# convert the image to grayscale\n",
    "img = img.convert(mode='L')\n",
    "# convert to numpy array\n",
    "data = asarray(img)\n",
    "print(data.shape)\n",
    "# add channels first\n",
    "data_first = expand_dims(data, axis=0)\n",
    "print(data_first.shape)\n",
    "# add channels last\n",
    "data_last = expand_dims(data, axis=2)\n",
    "print(data_last.shape)"
   ]
  },
  {
   "cell_type": "code",
   "execution_count": 2,
   "id": "c0afd198-ec0d-4112-818a-9b2bf490b6e9",
   "metadata": {},
   "outputs": [
    {
     "data": {
      "text/plain": [
       "array([[[ 96],\n",
       "        [ 98],\n",
       "        [ 99],\n",
       "        ...,\n",
       "        [135],\n",
       "        [136],\n",
       "        [136]],\n",
       "\n",
       "       [[ 96],\n",
       "        [ 98],\n",
       "        [100],\n",
       "        ...,\n",
       "        [138],\n",
       "        [138],\n",
       "        [137]],\n",
       "\n",
       "       [[102],\n",
       "        [104],\n",
       "        [106],\n",
       "        ...,\n",
       "        [142],\n",
       "        [142],\n",
       "        [142]],\n",
       "\n",
       "       ...,\n",
       "\n",
       "       [[ 54],\n",
       "        [ 66],\n",
       "        [ 42],\n",
       "        ...,\n",
       "        [120],\n",
       "        [144],\n",
       "        [153]],\n",
       "\n",
       "       [[ 69],\n",
       "        [ 80],\n",
       "        [ 74],\n",
       "        ...,\n",
       "        [162],\n",
       "        [191],\n",
       "        [188]],\n",
       "\n",
       "       [[ 53],\n",
       "        [ 52],\n",
       "        [ 53],\n",
       "        ...,\n",
       "        [169],\n",
       "        [164],\n",
       "        [123]]], dtype=uint8)"
      ]
     },
     "execution_count": 2,
     "metadata": {},
     "output_type": "execute_result"
    }
   ],
   "source": [
    "data = data.reshape((424, 640, 1))\n",
    "data"
   ]
  },
  {
   "cell_type": "code",
   "execution_count": 3,
   "id": "bc4a17d4-0927-4d7c-ac8c-622d23c0a5dd",
   "metadata": {},
   "outputs": [
    {
     "name": "stdout",
     "output_type": "stream",
     "text": [
      "(424, 640, 3)\n",
      "(3, 424, 640)\n",
      "(424, 640, 3)\n"
     ]
    }
   ],
   "source": [
    "# change image from channels last to channels first format\n",
    "from numpy import moveaxis\n",
    "from numpy import asarray\n",
    "from PIL import Image\n",
    "# load the color image\n",
    "img = Image.open('penguin_arade.jpg')\n",
    "# convert to numpy array\n",
    "data = asarray(img)\n",
    "print(data.shape)\n",
    "# change channels last to channels first format\n",
    "data = moveaxis(data, 2, 0)\n",
    "print(data.shape)\n",
    "# change channels first to channels last format\n",
    "data = moveaxis(data, 0, 2)\n",
    "print(data.shape)"
   ]
  },
  {
   "cell_type": "markdown",
   "id": "26c43b7a-a4ab-4838-aa9e-1a06f1a19927",
   "metadata": {},
   "source": [
    "The three main libraries that Keras may wrap and their preferred channel ordering are listed\r\n",
    "below\n",
    ":\r\n",
    "• TensorFlow: Channels last order.\r\n",
    "• Theano: Channels first order.\r\n",
    "• CNTK: Channels last order"
   ]
  },
  {
   "cell_type": "markdown",
   "id": "7240f5aa-52ed-4058-8b53-20c39429cfe3",
   "metadata": {},
   "source": [
    "We strongly recommend changing the image data format to channels first. MXNet \n",
    "is significantly faster on channels first data."
   ]
  },
  {
   "cell_type": "code",
   "execution_count": 6,
   "id": "25244d7a-72b3-4c33-bd1a-d50a446a7638",
   "metadata": {},
   "outputs": [
    {
     "name": "stdout",
     "output_type": "stream",
     "text": [
      "channels_last\n"
     ]
    }
   ],
   "source": [
    "# configure channel ordering in layer\n",
    "#model.add(Conv2D(..., data_format='channels_first'))\n",
    "\n",
    "\n",
    "# confirm your current preferred channel ordering\n",
    "\n",
    "# configure channel ordering in layer\n",
    "#model.add(Conv2D(..., data_format='channels_first'))\n",
    "\n",
    "# show preferred channel order\n",
    "from keras import backend\n",
    "print(backend.image_data_format())"
   ]
  },
  {
   "cell_type": "code",
   "execution_count": 7,
   "id": "6f29f17a-8a9c-4996-b481-df3aec0ec6ac",
   "metadata": {},
   "outputs": [
    {
     "name": "stdout",
     "output_type": "stream",
     "text": [
      "channels_first\n",
      "channels_last\n"
     ]
    }
   ],
   "source": [
    "# conditional logic based on channel ordering\n",
    "#if backend.image_data_format() == 'channels_last':\n",
    "#else:\n",
    "\n",
    "# force a channel ordering\n",
    "from keras import backend\n",
    "\n",
    "# force channels-first ordering\n",
    "backend.set_image_data_format('channels_first')\n",
    "print(backend.image_data_format())\n",
    "# force channels-last ordering\n",
    "backend.set_image_data_format('channels_last')\n",
    "print(backend.image_data_format())"
   ]
  },
  {
   "cell_type": "code",
   "execution_count": 8,
   "id": "fb29cdb5-90e7-4a45-939e-96024b83caf7",
   "metadata": {},
   "outputs": [],
   "source": [
    "data = asarray([0, 0, 0, 1, 1, 0, 0, 0])\n",
    "data = data.reshape(1, 8, 1)\n",
    "\n",
    "# create model\n",
    "#model = Sequential()\n",
    "#model.add(Conv1D(1, 3, input_shape=(8, 1)))\n",
    "# define a vertical line detector\n",
    "#weights = [asarray([[[0]],[[1]],[[0]]]), asarray([0.0])]\n",
    "# store the weights in the model\n",
    "#model.set_weights(weights)"
   ]
  },
  {
   "cell_type": "code",
   "execution_count": 9,
   "id": "3c4e41e7-8839-4b24-b721-ce80be4f41b7",
   "metadata": {},
   "outputs": [
    {
     "name": "stderr",
     "output_type": "stream",
     "text": [
      "D:\\Anaconda\\envs\\cursoDeepLearning\\Lib\\site-packages\\keras\\src\\layers\\convolutional\\base_conv.py:107: UserWarning: Do not pass an `input_shape`/`input_dim` argument to a layer. When using Sequential models, prefer using an `Input(shape)` object as the first layer in the model instead.\n",
      "  super().__init__(activity_regularizer=activity_regularizer, **kwargs)\n"
     ]
    },
    {
     "name": "stdout",
     "output_type": "stream",
     "text": [
      "[array([[[0.]],\n",
      "\n",
      "       [[1.]],\n",
      "\n",
      "       [[0.]]], dtype=float32), array([0.], dtype=float32)]\n",
      "\u001b[1m1/1\u001b[0m \u001b[32m━━━━━━━━━━━━━━━━━━━━\u001b[0m\u001b[37m\u001b[0m \u001b[1m5s\u001b[0m 5s/step\n",
      "[[[0.]\n",
      "  [0.]\n",
      "  [1.]\n",
      "  [1.]\n",
      "  [0.]\n",
      "  [0.]]]\n"
     ]
    }
   ],
   "source": [
    "# example of calculation 1d convolutions\n",
    "from numpy import asarray\n",
    "from keras.models import Sequential\n",
    "from keras.layers import Conv1D\n",
    "# define input data\n",
    "data = asarray([0, 0, 0, 1, 1, 0, 0, 0])\n",
    "data = data.reshape(1, 8, 1)\n",
    "# create model\n",
    "model = Sequential()\n",
    "model.add(Conv1D(1, 3, input_shape=(8, 1)))\n",
    "# define a vertical line detector\n",
    "weights = [asarray([[[0]],[[1]],[[0]]]), asarray([0.0])]\n",
    "# store the weights in the model\n",
    "model.set_weights(weights)\n",
    "# confirm they were stored\n",
    "print(model.get_weights())\n",
    "# apply filter to input data\n",
    "yhat = model.predict(data)\n",
    "print(yhat)"
   ]
  },
  {
   "cell_type": "code",
   "execution_count": 10,
   "id": "548a2a4f-9fda-4bb5-844b-60be153900ca",
   "metadata": {},
   "outputs": [
    {
     "name": "stdout",
     "output_type": "stream",
     "text": [
      "[array([[[[0.]],\n",
      "\n",
      "        [[1.]],\n",
      "\n",
      "        [[0.]]],\n",
      "\n",
      "\n",
      "       [[[0.]],\n",
      "\n",
      "        [[1.]],\n",
      "\n",
      "        [[0.]]],\n",
      "\n",
      "\n",
      "       [[[0.]],\n",
      "\n",
      "        [[1.]],\n",
      "\n",
      "        [[0.]]]], dtype=float32), array([0.], dtype=float32)]\n",
      "\u001b[1m1/1\u001b[0m \u001b[32m━━━━━━━━━━━━━━━━━━━━\u001b[0m\u001b[37m\u001b[0m \u001b[1m0s\u001b[0m 196ms/step\n",
      "[np.float32(0.0), np.float32(0.0), np.float32(3.0), np.float32(3.0), np.float32(0.0), np.float32(0.0)]\n",
      "[np.float32(0.0), np.float32(0.0), np.float32(3.0), np.float32(3.0), np.float32(0.0), np.float32(0.0)]\n",
      "[np.float32(0.0), np.float32(0.0), np.float32(3.0), np.float32(3.0), np.float32(0.0), np.float32(0.0)]\n",
      "[np.float32(0.0), np.float32(0.0), np.float32(3.0), np.float32(3.0), np.float32(0.0), np.float32(0.0)]\n",
      "[np.float32(0.0), np.float32(0.0), np.float32(3.0), np.float32(3.0), np.float32(0.0), np.float32(0.0)]\n",
      "[np.float32(0.0), np.float32(0.0), np.float32(3.0), np.float32(3.0), np.float32(0.0), np.float32(0.0)]\n"
     ]
    }
   ],
   "source": [
    "# example of calculation 2d convolutions\n",
    "from numpy import asarray\n",
    "from keras.models import Sequential\n",
    "from keras.layers import Conv2D\n",
    "\n",
    "\n",
    "# define input data\n",
    "data = [[0, 0, 0, 1, 1, 0, 0, 0],\n",
    "[0, 0, 0, 1, 1, 0, 0, 0],\n",
    "[0, 0, 0, 1, 1, 0, 0, 0],\n",
    "[0, 0, 0, 1, 1, 0, 0, 0],\n",
    "[0, 0, 0, 1, 1, 0, 0, 0],\n",
    "[0, 0, 0, 1, 1, 0, 0, 0],\n",
    "[0, 0, 0, 1, 1, 0, 0, 0],\n",
    "[0, 0, 0, 1, 1, 0, 0, 0]]\n",
    "data = asarray(data)\n",
    "data = data.reshape(1, 8, 8, 1)\n",
    "# create model\n",
    "model = Sequential()\n",
    "model.add(Conv2D(1, (3,3), input_shape=(8, 8, 1)))\n",
    "# define a vertical line detector\n",
    "detector = [[[[0]],[[1]],[[0]]],\n",
    "[[[0]],[[1]],[[0]]],\n",
    "[[[0]],[[1]],[[0]]]]\n",
    "weights = [asarray(detector), asarray([0.0])]\n",
    "# store the weights in the model\n",
    "model.set_weights(weights)\n",
    "# confirm they were stored\n",
    "print(model.get_weights())\n",
    "# apply filter to input data\n",
    "yhat = model.predict(data)\n",
    "\n",
    "for r in range(yhat.shape[1]):\n",
    "    # print each column in the row\n",
    "    print([yhat[0,r,c,0] for c in range(yhat.shape[2])])"
   ]
  },
  {
   "cell_type": "code",
   "execution_count": null,
   "id": "97a232bd-bb77-4d41-9480-fd07c4b0d354",
   "metadata": {},
   "outputs": [],
   "source": []
  }
 ],
 "metadata": {
  "kernelspec": {
   "display_name": "Python 3 (ipykernel)",
   "language": "python",
   "name": "python3"
  },
  "language_info": {
   "codemirror_mode": {
    "name": "ipython",
    "version": 3
   },
   "file_extension": ".py",
   "mimetype": "text/x-python",
   "name": "python",
   "nbconvert_exporter": "python",
   "pygments_lexer": "ipython3",
   "version": "3.11.10"
  }
 },
 "nbformat": 4,
 "nbformat_minor": 5
}
